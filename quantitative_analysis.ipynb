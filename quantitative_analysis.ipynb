{
 "cells": [
  {
   "cell_type": "code",
   "execution_count": 1,
   "id": "8b4deb00",
   "metadata": {},
   "outputs": [],
   "source": [
    "%load_ext autoreload\n",
    "%autoreload 2"
   ]
  },
  {
   "cell_type": "code",
   "execution_count": 2,
   "id": "dede90a1",
   "metadata": {},
   "outputs": [
    {
     "name": "stdout",
     "output_type": "stream",
     "text": [
      "[LATEXVARS] == Set EXTRACTIONLLMTOPP to 0.2\n",
      "Saving latex vars to /Users/king/Overleaf/pcbGPT-Benchmark-NeurIPS/latex_vars.tex\n",
      "[LATEXVARS] == Set EXTRACTIONLLMTEMPERATURE to 0.1\n",
      "Saving latex vars to /Users/king/Overleaf/pcbGPT-Benchmark-NeurIPS/latex_vars.tex\n",
      "[LATEXVARS] == Set GRADINGLLMTOPP to 0.2\n",
      "Saving latex vars to /Users/king/Overleaf/pcbGPT-Benchmark-NeurIPS/latex_vars.tex\n",
      "[LATEXVARS] == Set GRADINGLLMTEMPERATURE to 0.1\n",
      "Saving latex vars to /Users/king/Overleaf/pcbGPT-Benchmark-NeurIPS/latex_vars.tex\n",
      "[LATEXVARS] == Set MAXGENERATIONTOKEN to 4096\n",
      "Saving latex vars to /Users/king/Overleaf/pcbGPT-Benchmark-NeurIPS/latex_vars.tex\n",
      "[LATEXVARS] == Set OPENAIEMBEDDINGSMODEL to text-embedding-ada-002\n",
      "Saving latex vars to /Users/king/Overleaf/pcbGPT-Benchmark-NeurIPS/latex_vars.tex\n",
      "Database initialized\n"
     ]
    },
    {
     "name": "stderr",
     "output_type": "stream",
     "text": [
      "/Users/king/anaconda3/envs/pcbgpt/lib/python3.10/site-packages/tqdm/auto.py:21: TqdmWarning: IProgress not found. Please update jupyter and ipywidgets. See https://ipywidgets.readthedocs.io/en/stable/user_install.html\n",
      "  from .autonotebook import tqdm as notebook_tqdm\n"
     ]
    }
   ],
   "source": [
    "from src.DB.Component import Component\n",
    "from src.DB import init_db\n",
    "\n",
    "from src.Pipeline import Pipeline\n",
    "from src.Pipeline.ExceptionPolicy import ExceptionPolicy\n",
    "from src.Pipeline.ExecutionPolicy import ExecutionPolicy\n",
    "from src.PipelineSteps import OpenAIE2E, LLMGrader\n",
    "from src.Pipeline.Grader import Grader\n",
    "from src.LLM import GPT4oMini\n",
    "from src.llm_inputs import LLM_INSTRUCTIONS_V2, LLM_QUESTION_V2, GRADING_INSTRUCTIONS_V1, GRADING_PROMPTS\n",
    "from src.config import GRADING_LLM_TEMPERATURE, GRADING_LLM_TOP_P\n",
    "from src.config import LATEX_DIR"
   ]
  },
  {
   "cell_type": "code",
   "execution_count": 3,
   "id": "b6dca49a",
   "metadata": {},
   "outputs": [],
   "source": [
    "openaiE2E_pipeline = Pipeline(grader=Grader(), pipeline_type=\"proprietary\", save_results=False)\n",
    "openaiE2E_pipeline.add_step(OpenAIE2E(model=\"gpt-4o-mini\", instructions=LLM_INSTRUCTIONS_V2, question=LLM_QUESTION_V2), execution_policy=ExecutionPolicy.CACHE_ONLY)\n",
    "openaiE2E_pipeline.add_step(LLMGrader(llm=GPT4oMini(GRADING_LLM_TEMPERATURE, GRADING_LLM_TOP_P), grading_instructions=GRADING_INSTRUCTIONS_V1), execution_policy=ExecutionPolicy.CACHE_ONLY)\n",
    "\n",
    "best_pipeline = openaiE2E_pipeline"
   ]
  },
  {
   "cell_type": "code",
   "execution_count": 4,
   "id": "4f1fe59a",
   "metadata": {},
   "outputs": [],
   "source": [
    "\n",
    "from src.PipelineSteps import FullPageExtractor, TextRag, LLMPinExtractor\n",
    "from src.LLM import Qwen25_VL_7B_Instruct\n",
    "from src.config import EXTRACTION_LLM_TEMPERATURE, EXTRACTION_LLM_TOP_P\n",
    "from src.llm_inputs import RAG_QUERY_V1\n",
    "\n",
    "pipeline = Pipeline(pipeline_type=\"vision\", grader=Grader(), save_results=False)\n",
    "pipeline.add_step(FullPageExtractor(), exception_policy=ExceptionPolicy.TRY)\n",
    "pipeline.add_step(TextRag(RAG_QUERY_V1, num_results=4))\n",
    "pipeline.add_step([\n",
    "    LLMPinExtractor(Qwen25_VL_7B_Instruct(EXTRACTION_LLM_TEMPERATURE, EXTRACTION_LLM_TOP_P), LLM_QUESTION_V2, LLM_INSTRUCTIONS_V2, llmOrVLM=\"vlm\")\n",
    "], exception_policy=ExceptionPolicy.TRY, execution_policy=ExecutionPolicy.CACHE_ONLY)\n",
    "pipeline.add_step(LLMGrader(GPT4oMini(GRADING_LLM_TEMPERATURE, GRADING_LLM_TOP_P), GRADING_INSTRUCTIONS_V1))\n",
    "\n",
    "best_pipeline  = pipeline\n",
    "# grade, output = await pipeline(components, execution_policy=ExecutionPolicy.CACHE_ONLY)\n",
    "# print(\"Grade: \", grade)"
   ]
  },
  {
   "cell_type": "code",
   "execution_count": 5,
   "id": "97774556",
   "metadata": {},
   "outputs": [],
   "source": [
    "from functools import lru_cache\n",
    "\n",
    "async def grouped_pipeline_results(grouped_components):\n",
    "    grades = {}\n",
    "    for key, value in grouped_components.items():\n",
    "        value = [x for x in value if x.pdf_path is not None]\n",
    "        print(f\"Running {key} with {len(value)} components\")\n",
    "        try:\n",
    "            grade, _ = await best_pipeline(value, execution_policy=ExecutionPolicy.CACHE_ONLY)\n",
    "            grades[key] = grade[0]\n",
    "        except Exception as e:\n",
    "            print(f\"Error processing {key}: {e}\")\n",
    "            continue\n",
    "    return grades"
   ]
  },
  {
   "cell_type": "code",
   "execution_count": null,
   "id": "f47b8848",
   "metadata": {},
   "outputs": [],
   "source": [
    "import matplotlib.pyplot as plt\n",
    "import seaborn as sns\n",
    "import numpy as np\n",
    "from matplotlib.ticker import MaxNLocator\n",
    "\n",
    "def convert_type(component_type):\n",
    "    if \"sensor\" in component_type.lower():\n",
    "        return \"Sensor\"\n",
    "    if \"mcu\" in component_type.lower():\n",
    "        return \"MCU\"\n",
    "    else:\n",
    "        raise ValueError(f\"Unknown type: {component_type}\")\n",
    "\n",
    "def plot_sorted_by_accuracy(grades, group_by, sort_by=\"performance\", figsize=(6, 6), font_size=18):\n",
    "    # Extract data\n",
    "    categories = list(grades.keys())\n",
    "    accuracies = [round(grades[cat].accuracy, 2) for cat in categories]\n",
    "    f1_scores = [round(grades[cat].f1_score, 2) for cat in categories]\n",
    "\n",
    "    # Sorting logic\n",
    "    if sort_by == \"performance\":\n",
    "        sorted_data = sorted(zip(categories, accuracies, f1_scores), key=lambda x: (x[1], x[2]), reverse=False)\n",
    "    elif sort_by == \"x\":\n",
    "        sorted_data = sorted(zip(categories, accuracies, f1_scores), key=lambda x: x[0], reverse=True)\n",
    "    else:\n",
    "        raise ValueError(f\"Unknown sort key: {sort_by}\")\n",
    "\n",
    "    categories, accuracies, f1_scores = zip(*sorted_data)\n",
    "\n",
    "    y = np.arange(len(categories))\n",
    "    height = 0.35\n",
    "\n",
    "    # Set theme\n",
    "    sns.set_theme(style=\"white\")\n",
    "    fig, ax = plt.subplots(figsize=figsize)\n",
    "\n",
    "    # Draw horizontal bars\n",
    "    rects1 = ax.barh(y - height/2, accuracies, height, label='Accuracy', edgecolor=\"black\")\n",
    "    rects2 = ax.barh(y + height/2, f1_scores, height, label='F1 Score', edgecolor=\"black\")\n",
    "    # Axis settings\n",
    "    ax.set_xlabel('Score (%)', fontsize=font_size)\n",
    "    ax.set_yticks(y)\n",
    "    ax.set_yticklabels(['\\n'.join(str(cat).split(',')) for cat in categories], fontsize=font_size)\n",
    "    ax.tick_params(axis='x', labelsize=font_size-2)\n",
    "    # ax.xaxis.set_major_locator(MaxNLocator(integer=True))\n",
    "\n",
    "    # Add bar labels\n",
    "    ax.bar_label(rects1, padding=3, fontsize=12)\n",
    "    ax.bar_label(rects2, padding=3, fontsize=12)\n",
    "\n",
    "    # Set global font size\n",
    "    plt.rc('font', size=font_size)\n",
    "\n",
    "    if group_by == \"pins\":\n",
    "        ax.set_ylabel('# Pins', fontsize=font_size)\n",
    "    if group_by == \"manufacturer\":\n",
    "        ax.set_ylabel('Manufacturer', fontsize=font_size)\n",
    "\n",
    "    # Remove spines\n",
    "    sns.despine()\n",
    "\n",
    "    # X-limits\n",
    "    # min_score = min(min(accuracies), min(f1_scores))\n",
    "    # ax.set_xlim(min_score - 10, 105)\n",
    "\n",
    "    # Tight layout and save\n",
    "    plt.tight_layout()\n",
    "    plt.legend(size=font_size)\n",
    "    plt.savefig(f\"{LATEX_DIR}/figures/best_performance_{group_by}.pdf\", bbox_inches='tight')\n",
    "    plt.show()"
   ]
  },
  {
   "cell_type": "code",
   "execution_count": 7,
   "id": "9eb867bc",
   "metadata": {},
   "outputs": [],
   "source": [
    "async def plot_grouped_by(group_by, sort_by=\"performance\", custom_reduce_fn=None, min_group_size=1):\n",
    "    component_manufacturer = await Component.get_all_grouped(group_by, custom_reduce_fn=custom_reduce_fn, only_pdf=True, min_group_size=min_group_size)\n",
    "    grades = await grouped_pipeline_results(component_manufacturer)\n",
    "    return grades"
   ]
  },
  {
   "cell_type": "code",
   "execution_count": 8,
   "id": "49f5bfbe",
   "metadata": {},
   "outputs": [
    {
     "name": "stdout",
     "output_type": "stream",
     "text": [
      "Running Other with 31 components\n",
      "Running step: FullPageExtractorfull_pages\n"
     ]
    },
    {
     "name": "stderr",
     "output_type": "stream",
     "text": [
      "Processing: 100%|██████████| 31/31 [00:02<00:00, 14.84step/s]\n"
     ]
    },
    {
     "name": "stdout",
     "output_type": "stream",
     "text": [
      "Running step: TextRagquery_v1_4_similarity\n"
     ]
    },
    {
     "name": "stderr",
     "output_type": "stream",
     "text": [
      "Processing: 100%|██████████| 31/31 [00:01<00:00, 26.32step/s]\n"
     ]
    },
    {
     "name": "stdout",
     "output_type": "stream",
     "text": [
      "Running step: LLMPinExtractorQwen/Qwen2.5-VL-7B-Instruct_question_v2_instructions_v2\n"
     ]
    },
    {
     "name": "stderr",
     "output_type": "stream",
     "text": [
      "Processing: 100%|██████████| 31/31 [00:01<00:00, 25.39step/s]\n"
     ]
    },
    {
     "name": "stdout",
     "output_type": "stream",
     "text": [
      "Running step: LLMGradergpt-4o-mini_0.1_0.2_grading_instructions_v1\n"
     ]
    },
    {
     "name": "stderr",
     "output_type": "stream",
     "text": [
      "Processing: 100%|██████████| 31/31 [00:01<00:00, 23.04step/s]\n"
     ]
    },
    {
     "name": "stdout",
     "output_type": "stream",
     "text": [
      "Single_input: <class 'list'>\n",
      "Single_input_0 <class 'tuple'>\n",
      "Single_input_0_0 <class 'src.DB.CacheCollection.CacheCollection'>\n",
      "Single_input_0_1 <class 'src.DB.Component.Component'>\n",
      "Running TDK with 83 components\n",
      "Running step: FullPageExtractorfull_pages\n"
     ]
    },
    {
     "name": "stderr",
     "output_type": "stream",
     "text": [
      "Processing: 100%|██████████| 83/83 [00:03<00:00, 24.41step/s]\n"
     ]
    },
    {
     "name": "stdout",
     "output_type": "stream",
     "text": [
      "Running step: TextRagquery_v1_4_similarity\n"
     ]
    },
    {
     "name": "stderr",
     "output_type": "stream",
     "text": [
      "Processing: 100%|██████████| 83/83 [00:03<00:00, 24.86step/s]\n"
     ]
    },
    {
     "name": "stdout",
     "output_type": "stream",
     "text": [
      "Running step: LLMPinExtractorQwen/Qwen2.5-VL-7B-Instruct_question_v2_instructions_v2\n"
     ]
    },
    {
     "name": "stderr",
     "output_type": "stream",
     "text": [
      "Processing: 100%|██████████| 83/83 [00:03<00:00, 25.50step/s]\n"
     ]
    },
    {
     "name": "stdout",
     "output_type": "stream",
     "text": [
      "Running step: LLMGradergpt-4o-mini_0.1_0.2_grading_instructions_v1\n"
     ]
    },
    {
     "name": "stderr",
     "output_type": "stream",
     "text": [
      "Processing: 100%|██████████| 83/83 [00:03<00:00, 23.53step/s]\n"
     ]
    },
    {
     "name": "stdout",
     "output_type": "stream",
     "text": [
      "Single_input: <class 'list'>\n",
      "Single_input_0 <class 'tuple'>\n",
      "Single_input_0_0 <class 'src.DB.CacheCollection.CacheCollection'>\n",
      "Single_input_0_1 <class 'src.DB.Component.Component'>\n",
      "Running STMicroelectronics with 135 components\n",
      "Running step: FullPageExtractorfull_pages\n"
     ]
    },
    {
     "name": "stderr",
     "output_type": "stream",
     "text": [
      "Processing: 100%|██████████| 135/135 [00:06<00:00, 21.21step/s]\n"
     ]
    },
    {
     "name": "stdout",
     "output_type": "stream",
     "text": [
      "Running step: TextRagquery_v1_4_similarity\n"
     ]
    },
    {
     "name": "stderr",
     "output_type": "stream",
     "text": [
      "Processing: 100%|██████████| 135/135 [00:05<00:00, 25.03step/s]\n"
     ]
    },
    {
     "name": "stdout",
     "output_type": "stream",
     "text": [
      "Running step: LLMPinExtractorQwen/Qwen2.5-VL-7B-Instruct_question_v2_instructions_v2\n"
     ]
    },
    {
     "name": "stderr",
     "output_type": "stream",
     "text": [
      "Processing: 100%|██████████| 135/135 [00:05<00:00, 24.70step/s]\n"
     ]
    },
    {
     "name": "stdout",
     "output_type": "stream",
     "text": [
      "Running step: LLMGradergpt-4o-mini_0.1_0.2_grading_instructions_v1\n"
     ]
    },
    {
     "name": "stderr",
     "output_type": "stream",
     "text": [
      "Processing: 100%|██████████| 135/135 [00:05<00:00, 23.39step/s]\n"
     ]
    },
    {
     "name": "stdout",
     "output_type": "stream",
     "text": [
      "Single_input: <class 'list'>\n",
      "Single_input_0 <class 'tuple'>\n",
      "Single_input_0_0 <class 'src.DB.CacheCollection.CacheCollection'>\n",
      "Single_input_0_1 <class 'src.DB.Component.Component'>\n",
      "Running Infineon with 130 components\n",
      "Running step: FullPageExtractorfull_pages\n"
     ]
    },
    {
     "name": "stderr",
     "output_type": "stream",
     "text": [
      "Processing: 100%|██████████| 130/130 [00:04<00:00, 27.27step/s]\n"
     ]
    },
    {
     "name": "stdout",
     "output_type": "stream",
     "text": [
      "Running step: TextRagquery_v1_4_similarity\n"
     ]
    },
    {
     "name": "stderr",
     "output_type": "stream",
     "text": [
      "Processing: 100%|██████████| 130/130 [00:05<00:00, 25.16step/s]\n"
     ]
    },
    {
     "name": "stdout",
     "output_type": "stream",
     "text": [
      "Running step: LLMPinExtractorQwen/Qwen2.5-VL-7B-Instruct_question_v2_instructions_v2\n"
     ]
    },
    {
     "name": "stderr",
     "output_type": "stream",
     "text": [
      "Processing: 100%|██████████| 130/130 [00:05<00:00, 24.78step/s]\n"
     ]
    },
    {
     "name": "stdout",
     "output_type": "stream",
     "text": [
      "Running step: LLMGradergpt-4o-mini_0.1_0.2_grading_instructions_v1\n"
     ]
    },
    {
     "name": "stderr",
     "output_type": "stream",
     "text": [
      "Processing: 100%|██████████| 130/130 [00:05<00:00, 23.51step/s]\n"
     ]
    },
    {
     "name": "stdout",
     "output_type": "stream",
     "text": [
      "Single_input: <class 'list'>\n",
      "Single_input_0 <class 'tuple'>\n",
      "Single_input_0_0 <class 'src.DB.CacheCollection.CacheCollection'>\n",
      "Single_input_0_1 <class 'src.DB.Component.Component'>\n",
      "Running Analog Devices with 25 components\n",
      "Running step: FullPageExtractorfull_pages\n"
     ]
    },
    {
     "name": "stderr",
     "output_type": "stream",
     "text": [
      "Processing: 100%|██████████| 25/25 [00:00<00:00, 25.91step/s]\n"
     ]
    },
    {
     "name": "stdout",
     "output_type": "stream",
     "text": [
      "Running step: TextRagquery_v1_4_similarity\n"
     ]
    },
    {
     "name": "stderr",
     "output_type": "stream",
     "text": [
      "Processing: 100%|██████████| 25/25 [00:00<00:00, 25.10step/s]\n"
     ]
    },
    {
     "name": "stdout",
     "output_type": "stream",
     "text": [
      "Running step: LLMPinExtractorQwen/Qwen2.5-VL-7B-Instruct_question_v2_instructions_v2\n"
     ]
    },
    {
     "name": "stderr",
     "output_type": "stream",
     "text": [
      "Processing: 100%|██████████| 25/25 [00:01<00:00, 22.19step/s]\n"
     ]
    },
    {
     "name": "stdout",
     "output_type": "stream",
     "text": [
      "Running step: LLMGradergpt-4o-mini_0.1_0.2_grading_instructions_v1\n"
     ]
    },
    {
     "name": "stderr",
     "output_type": "stream",
     "text": [
      "Processing: 100%|██████████| 25/25 [00:01<00:00, 20.17step/s]\n"
     ]
    },
    {
     "name": "stdout",
     "output_type": "stream",
     "text": [
      "Single_input: <class 'list'>\n",
      "Single_input_0 <class 'tuple'>\n",
      "Single_input_0_0 <class 'src.DB.CacheCollection.CacheCollection'>\n",
      "Single_input_0_1 <class 'src.DB.Component.Component'>\n",
      "Running MEMSIC with 14 components\n",
      "Running step: FullPageExtractorfull_pages\n"
     ]
    },
    {
     "name": "stderr",
     "output_type": "stream",
     "text": [
      "Processing: 100%|██████████| 14/14 [00:00<00:00, 25.98step/s]\n"
     ]
    },
    {
     "name": "stdout",
     "output_type": "stream",
     "text": [
      "Running step: TextRagquery_v1_4_similarity\n"
     ]
    },
    {
     "name": "stderr",
     "output_type": "stream",
     "text": [
      "Processing: 100%|██████████| 14/14 [00:00<00:00, 24.31step/s]\n"
     ]
    },
    {
     "name": "stdout",
     "output_type": "stream",
     "text": [
      "Running step: LLMPinExtractorQwen/Qwen2.5-VL-7B-Instruct_question_v2_instructions_v2\n"
     ]
    },
    {
     "name": "stderr",
     "output_type": "stream",
     "text": [
      "Processing: 100%|██████████| 14/14 [00:00<00:00, 22.98step/s]\n"
     ]
    },
    {
     "name": "stdout",
     "output_type": "stream",
     "text": [
      "Running step: LLMGradergpt-4o-mini_0.1_0.2_grading_instructions_v1\n"
     ]
    },
    {
     "name": "stderr",
     "output_type": "stream",
     "text": [
      "Processing: 100%|██████████| 14/14 [00:00<00:00, 19.61step/s]\n"
     ]
    },
    {
     "name": "stdout",
     "output_type": "stream",
     "text": [
      "Single_input: <class 'list'>\n",
      "Single_input_0 <class 'tuple'>\n",
      "Single_input_0_0 <class 'src.DB.CacheCollection.CacheCollection'>\n",
      "Single_input_0_1 <class 'src.DB.Component.Component'>\n",
      "Running Murata with 18 components\n",
      "Running step: FullPageExtractorfull_pages\n"
     ]
    },
    {
     "name": "stderr",
     "output_type": "stream",
     "text": [
      "Processing: 100%|██████████| 18/18 [00:00<00:00, 28.14step/s]\n"
     ]
    },
    {
     "name": "stdout",
     "output_type": "stream",
     "text": [
      "Running step: TextRagquery_v1_4_similarity\n"
     ]
    },
    {
     "name": "stderr",
     "output_type": "stream",
     "text": [
      "Processing: 100%|██████████| 18/18 [00:00<00:00, 26.17step/s]\n"
     ]
    },
    {
     "name": "stdout",
     "output_type": "stream",
     "text": [
      "Running step: LLMPinExtractorQwen/Qwen2.5-VL-7B-Instruct_question_v2_instructions_v2\n"
     ]
    },
    {
     "name": "stderr",
     "output_type": "stream",
     "text": [
      "Processing: 100%|██████████| 18/18 [00:00<00:00, 22.52step/s]\n"
     ]
    },
    {
     "name": "stdout",
     "output_type": "stream",
     "text": [
      "Running step: LLMGradergpt-4o-mini_0.1_0.2_grading_instructions_v1\n"
     ]
    },
    {
     "name": "stderr",
     "output_type": "stream",
     "text": [
      "Processing: 100%|██████████| 18/18 [00:00<00:00, 23.68step/s]\n"
     ]
    },
    {
     "name": "stdout",
     "output_type": "stream",
     "text": [
      "Single_input: <class 'list'>\n",
      "Single_input_0 <class 'tuple'>\n",
      "Single_input_0_0 <class 'src.DB.CacheCollection.CacheCollection'>\n",
      "Single_input_0_1 <class 'src.DB.Component.Component'>\n",
      "Running Bosch Sensortec with 41 components\n",
      "Running step: FullPageExtractorfull_pages\n"
     ]
    },
    {
     "name": "stderr",
     "output_type": "stream",
     "text": [
      "Processing: 100%|██████████| 41/41 [00:02<00:00, 19.29step/s]\n"
     ]
    },
    {
     "name": "stdout",
     "output_type": "stream",
     "text": [
      "Running step: TextRagquery_v1_4_similarity\n"
     ]
    },
    {
     "name": "stderr",
     "output_type": "stream",
     "text": [
      "Processing: 100%|██████████| 41/41 [00:01<00:00, 25.30step/s]\n"
     ]
    },
    {
     "name": "stdout",
     "output_type": "stream",
     "text": [
      "Running step: LLMPinExtractorQwen/Qwen2.5-VL-7B-Instruct_question_v2_instructions_v2\n"
     ]
    },
    {
     "name": "stderr",
     "output_type": "stream",
     "text": [
      "Processing: 100%|██████████| 41/41 [00:01<00:00, 23.79step/s]\n"
     ]
    },
    {
     "name": "stdout",
     "output_type": "stream",
     "text": [
      "Running step: LLMGradergpt-4o-mini_0.1_0.2_grading_instructions_v1\n"
     ]
    },
    {
     "name": "stderr",
     "output_type": "stream",
     "text": [
      "Processing: 100%|██████████| 41/41 [00:01<00:00, 22.93step/s]\n"
     ]
    },
    {
     "name": "stdout",
     "output_type": "stream",
     "text": [
      "Single_input: <class 'list'>\n",
      "Single_input_0 <class 'tuple'>\n",
      "Single_input_0_0 <class 'src.DB.CacheCollection.CacheCollection'>\n",
      "Single_input_0_1 <class 'src.DB.Component.Component'>\n",
      "Running Texas Instruments with 25 components\n",
      "Running step: FullPageExtractorfull_pages\n"
     ]
    },
    {
     "name": "stderr",
     "output_type": "stream",
     "text": [
      "Processing: 100%|██████████| 25/25 [00:01<00:00, 19.90step/s]\n"
     ]
    },
    {
     "name": "stdout",
     "output_type": "stream",
     "text": [
      "Running step: TextRagquery_v1_4_similarity\n"
     ]
    },
    {
     "name": "stderr",
     "output_type": "stream",
     "text": [
      "Processing: 100%|██████████| 25/25 [00:01<00:00, 24.66step/s]\n"
     ]
    },
    {
     "name": "stdout",
     "output_type": "stream",
     "text": [
      "Running step: LLMPinExtractorQwen/Qwen2.5-VL-7B-Instruct_question_v2_instructions_v2\n"
     ]
    },
    {
     "name": "stderr",
     "output_type": "stream",
     "text": [
      "Processing: 100%|██████████| 25/25 [00:01<00:00, 24.29step/s]\n"
     ]
    },
    {
     "name": "stdout",
     "output_type": "stream",
     "text": [
      "Running step: LLMGradergpt-4o-mini_0.1_0.2_grading_instructions_v1\n"
     ]
    },
    {
     "name": "stderr",
     "output_type": "stream",
     "text": [
      "Processing: 100%|██████████| 25/25 [00:01<00:00, 22.90step/s]\n"
     ]
    },
    {
     "name": "stdout",
     "output_type": "stream",
     "text": [
      "Single_input: <class 'list'>\n",
      "Single_input_0 <class 'tuple'>\n",
      "Single_input_0_0 <class 'src.DB.CacheCollection.CacheCollection'>\n",
      "Single_input_0_1 <class 'src.DB.Component.Component'>\n",
      "Running Allegro MicroSystems with 5 components\n",
      "Running step: FullPageExtractorfull_pages\n"
     ]
    },
    {
     "name": "stderr",
     "output_type": "stream",
     "text": [
      "Processing: 100%|██████████| 5/5 [00:00<00:00, 18.45step/s]\n"
     ]
    },
    {
     "name": "stdout",
     "output_type": "stream",
     "text": [
      "Running step: TextRagquery_v1_4_similarity\n"
     ]
    },
    {
     "name": "stderr",
     "output_type": "stream",
     "text": [
      "Processing: 100%|██████████| 5/5 [00:00<00:00, 24.26step/s]\n"
     ]
    },
    {
     "name": "stdout",
     "output_type": "stream",
     "text": [
      "Running step: LLMPinExtractorQwen/Qwen2.5-VL-7B-Instruct_question_v2_instructions_v2\n"
     ]
    },
    {
     "name": "stderr",
     "output_type": "stream",
     "text": [
      "Processing: 100%|██████████| 5/5 [00:00<00:00, 24.68step/s]\n"
     ]
    },
    {
     "name": "stdout",
     "output_type": "stream",
     "text": [
      "Running step: LLMGradergpt-4o-mini_0.1_0.2_grading_instructions_v1\n"
     ]
    },
    {
     "name": "stderr",
     "output_type": "stream",
     "text": [
      "Processing: 100%|██████████| 5/5 [00:00<00:00, 21.86step/s]"
     ]
    },
    {
     "name": "stdout",
     "output_type": "stream",
     "text": [
      "Single_input: <class 'list'>\n",
      "Single_input_0 <class 'tuple'>\n",
      "Single_input_0_0 <class 'src.DB.CacheCollection.CacheCollection'>\n",
      "Single_input_0_1 <class 'src.DB.Component.Component'>\n"
     ]
    },
    {
     "name": "stderr",
     "output_type": "stream",
     "text": [
      "\n"
     ]
    }
   ],
   "source": [
    "manufacturer_unification_map = {\n",
    "    # Bosch Sensortec\n",
    "    \"bst\": \"Bosch Sensortec\",\n",
    "    \n",
    "    # Espressif\n",
    "    \"esp\": \"Espressif\",  # Assuming 'esp' refers to Espressif\n",
    "\n",
    "    # Infineon\n",
    "    \"inf\": \"Infineon\",\n",
    "    \"Infineon\": \"Infineon\",\n",
    "    \n",
    "    # Murata\n",
    "    \"mur\": \"Murata\",\n",
    "    \"Murata\": \"Murata\",\n",
    "    \n",
    "    # Nordic Semiconductor\n",
    "    \"nor\": \"Nordic Semiconductor\",\n",
    "    \n",
    "    # Renesas Electronics\n",
    "    \"re\": \"Renesas Electronics\",\n",
    "\n",
    "    # STMicroelectronics\n",
    "    \"stm\": \"STMicroelectronics\",\n",
    "    \"STMicroelectronics\": \"STMicroelectronics\",\n",
    "\n",
    "    # TDK\n",
    "    \"tdk\": \"TDK\",\n",
    "    \"TDK\": \"TDK\",\n",
    "\n",
    "    # Texas Instruments\n",
    "    \"ti\": \"Texas Instruments\",\n",
    "    \"Texas Instruments\": \"Texas Instruments\",\n",
    "\n",
    "    # ROHM\n",
    "    \"ROHM Semiconductor\": \"ROHM\",\n",
    "    \n",
    "    # Microchip Technology (fix typo)\n",
    "    \"Michrochip Technology\": \"Microchip Technology\",\n",
    "\n",
    "    # Rev. 1.10 isn't a manufacturer – discard or label as \"Unknown\"\n",
    "    \"Rev. 1.10\": \"Unknown\",\n",
    "\n",
    "    # Default mappings (identity for already unified names)\n",
    "    \"Allegro MicroSystems\": \"Allegro MicroSystems\",\n",
    "    \"Amphenol\": \"Amphenol\",\n",
    "    \"Analog Devices\": \"Analog Devices\",\n",
    "    \"Bosch\": \"Bosch Sensortec\",\n",
    "    \"Diodes Incorporated\": \"Diodes Incorporated\",\n",
    "    \"Endress+Hauser\": \"Endress+Hauser\",\n",
    "    \"Knowles\": \"Knowles\",\n",
    "    \"LEM\": \"LEM\",\n",
    "    \"MEMSIC\": \"MEMSIC\",\n",
    "    \"Microchip Technology\": \"Microchip Technology\",\n",
    "    \"Movella\": \"Movella\",\n",
    "    \"NXP\": \"NXP\",\n",
    "    \"ROHM\": \"ROHM\",\n",
    "    \"Same Sky\": \"Same Sky\",\n",
    "    \"Sensirion\": \"Sensirion\",\n",
    "    \"Silicon Labs\": \"Silicon Labs\",\n",
    "    \"TE Connectivity\": \"TE Connectivity\",\n",
    "    \"Toshiba\": \"Toshiba\",\n",
    "    \"ams OSRAM\": \"ams OSRAM\",\n",
    "}\n",
    "\n",
    "grades = await plot_grouped_by(\"manufacturer\", custom_reduce_fn=lambda x: manufacturer_unification_map.get(x, None), min_group_size=5)"
   ]
  },
  {
   "cell_type": "code",
   "execution_count": 22,
   "id": "88e7533f",
   "metadata": {},
   "outputs": [
    {
     "ename": "TypeError",
     "evalue": "Legend.__init__() got an unexpected keyword argument 'font_size'",
     "output_type": "error",
     "traceback": [
      "\u001b[0;31m---------------------------------------------------------------------------\u001b[0m",
      "\u001b[0;31mTypeError\u001b[0m                                 Traceback (most recent call last)",
      "Cell \u001b[0;32mIn[22], line 1\u001b[0m\n\u001b[0;32m----> 1\u001b[0m \u001b[43mplot_sorted_by_accuracy\u001b[49m\u001b[43m(\u001b[49m\u001b[43mgrades\u001b[49m\u001b[43m,\u001b[49m\u001b[43m \u001b[49m\u001b[38;5;124;43m\"\u001b[39;49m\u001b[38;5;124;43mmanufacturer\u001b[39;49m\u001b[38;5;124;43m\"\u001b[39;49m\u001b[43m,\u001b[49m\u001b[43m \u001b[49m\u001b[43msort_by\u001b[49m\u001b[38;5;241;43m=\u001b[39;49m\u001b[38;5;124;43m\"\u001b[39;49m\u001b[38;5;124;43mperformance\u001b[39;49m\u001b[38;5;124;43m\"\u001b[39;49m\u001b[43m,\u001b[49m\u001b[43m \u001b[49m\u001b[43mfigsize\u001b[49m\u001b[38;5;241;43m=\u001b[39;49m\u001b[43m(\u001b[49m\u001b[38;5;241;43m6\u001b[39;49m\u001b[43m,\u001b[49m\u001b[43m \u001b[49m\u001b[38;5;241;43m5\u001b[39;49m\u001b[43m)\u001b[49m\u001b[43m)\u001b[49m\n",
      "Cell \u001b[0;32mIn[21], line 68\u001b[0m, in \u001b[0;36mplot_sorted_by_accuracy\u001b[0;34m(grades, group_by, sort_by, figsize, font_size)\u001b[0m\n\u001b[1;32m     62\u001b[0m \u001b[38;5;66;03m# X-limits\u001b[39;00m\n\u001b[1;32m     63\u001b[0m \u001b[38;5;66;03m# min_score = min(min(accuracies), min(f1_scores))\u001b[39;00m\n\u001b[1;32m     64\u001b[0m \u001b[38;5;66;03m# ax.set_xlim(min_score - 10, 105)\u001b[39;00m\n\u001b[1;32m     65\u001b[0m \n\u001b[1;32m     66\u001b[0m \u001b[38;5;66;03m# Tight layout and save\u001b[39;00m\n\u001b[1;32m     67\u001b[0m plt\u001b[38;5;241m.\u001b[39mtight_layout()\n\u001b[0;32m---> 68\u001b[0m \u001b[43mplt\u001b[49m\u001b[38;5;241;43m.\u001b[39;49m\u001b[43mlegend\u001b[49m\u001b[43m(\u001b[49m\u001b[43mfont_size\u001b[49m\u001b[38;5;241;43m=\u001b[39;49m\u001b[43mfont_size\u001b[49m\u001b[43m)\u001b[49m\n\u001b[1;32m     69\u001b[0m plt\u001b[38;5;241m.\u001b[39msavefig(\u001b[38;5;124mf\u001b[39m\u001b[38;5;124m\"\u001b[39m\u001b[38;5;132;01m{\u001b[39;00mLATEX_DIR\u001b[38;5;132;01m}\u001b[39;00m\u001b[38;5;124m/figures/best_performance_\u001b[39m\u001b[38;5;132;01m{\u001b[39;00mgroup_by\u001b[38;5;132;01m}\u001b[39;00m\u001b[38;5;124m.pdf\u001b[39m\u001b[38;5;124m\"\u001b[39m, bbox_inches\u001b[38;5;241m=\u001b[39m\u001b[38;5;124m'\u001b[39m\u001b[38;5;124mtight\u001b[39m\u001b[38;5;124m'\u001b[39m)\n\u001b[1;32m     70\u001b[0m plt\u001b[38;5;241m.\u001b[39mshow()\n",
      "File \u001b[0;32m~/anaconda3/envs/pcbgpt/lib/python3.10/site-packages/matplotlib/pyplot.py:3588\u001b[0m, in \u001b[0;36mlegend\u001b[0;34m(*args, **kwargs)\u001b[0m\n\u001b[1;32m   3586\u001b[0m \u001b[38;5;129m@_copy_docstring_and_deprecators\u001b[39m(Axes\u001b[38;5;241m.\u001b[39mlegend)\n\u001b[1;32m   3587\u001b[0m \u001b[38;5;28;01mdef\u001b[39;00m\u001b[38;5;250m \u001b[39m\u001b[38;5;21mlegend\u001b[39m(\u001b[38;5;241m*\u001b[39margs, \u001b[38;5;241m*\u001b[39m\u001b[38;5;241m*\u001b[39mkwargs) \u001b[38;5;241m-\u001b[39m\u001b[38;5;241m>\u001b[39m Legend:\n\u001b[0;32m-> 3588\u001b[0m     \u001b[38;5;28;01mreturn\u001b[39;00m \u001b[43mgca\u001b[49m\u001b[43m(\u001b[49m\u001b[43m)\u001b[49m\u001b[38;5;241;43m.\u001b[39;49m\u001b[43mlegend\u001b[49m\u001b[43m(\u001b[49m\u001b[38;5;241;43m*\u001b[39;49m\u001b[43margs\u001b[49m\u001b[43m,\u001b[49m\u001b[43m \u001b[49m\u001b[38;5;241;43m*\u001b[39;49m\u001b[38;5;241;43m*\u001b[39;49m\u001b[43mkwargs\u001b[49m\u001b[43m)\u001b[49m\n",
      "File \u001b[0;32m~/anaconda3/envs/pcbgpt/lib/python3.10/site-packages/matplotlib/axes/_axes.py:342\u001b[0m, in \u001b[0;36mAxes.legend\u001b[0;34m(self, *args, **kwargs)\u001b[0m\n\u001b[1;32m    225\u001b[0m \u001b[38;5;250m\u001b[39m\u001b[38;5;124;03m\"\"\"\u001b[39;00m\n\u001b[1;32m    226\u001b[0m \u001b[38;5;124;03mPlace a legend on the Axes.\u001b[39;00m\n\u001b[1;32m    227\u001b[0m \n\u001b[0;32m   (...)\u001b[0m\n\u001b[1;32m    339\u001b[0m \u001b[38;5;124;03m.. plot:: gallery/text_labels_and_annotations/legend.py\u001b[39;00m\n\u001b[1;32m    340\u001b[0m \u001b[38;5;124;03m\"\"\"\u001b[39;00m\n\u001b[1;32m    341\u001b[0m handles, labels, kwargs \u001b[38;5;241m=\u001b[39m mlegend\u001b[38;5;241m.\u001b[39m_parse_legend_args([\u001b[38;5;28mself\u001b[39m], \u001b[38;5;241m*\u001b[39margs, \u001b[38;5;241m*\u001b[39m\u001b[38;5;241m*\u001b[39mkwargs)\n\u001b[0;32m--> 342\u001b[0m \u001b[38;5;28mself\u001b[39m\u001b[38;5;241m.\u001b[39mlegend_ \u001b[38;5;241m=\u001b[39m \u001b[43mmlegend\u001b[49m\u001b[38;5;241;43m.\u001b[39;49m\u001b[43mLegend\u001b[49m\u001b[43m(\u001b[49m\u001b[38;5;28;43mself\u001b[39;49m\u001b[43m,\u001b[49m\u001b[43m \u001b[49m\u001b[43mhandles\u001b[49m\u001b[43m,\u001b[49m\u001b[43m \u001b[49m\u001b[43mlabels\u001b[49m\u001b[43m,\u001b[49m\u001b[43m \u001b[49m\u001b[38;5;241;43m*\u001b[39;49m\u001b[38;5;241;43m*\u001b[39;49m\u001b[43mkwargs\u001b[49m\u001b[43m)\u001b[49m\n\u001b[1;32m    343\u001b[0m \u001b[38;5;28mself\u001b[39m\u001b[38;5;241m.\u001b[39mlegend_\u001b[38;5;241m.\u001b[39m_remove_method \u001b[38;5;241m=\u001b[39m \u001b[38;5;28mself\u001b[39m\u001b[38;5;241m.\u001b[39m_remove_legend\n\u001b[1;32m    344\u001b[0m \u001b[38;5;28;01mreturn\u001b[39;00m \u001b[38;5;28mself\u001b[39m\u001b[38;5;241m.\u001b[39mlegend_\n",
      "\u001b[0;31mTypeError\u001b[0m: Legend.__init__() got an unexpected keyword argument 'font_size'"
     ]
    },
    {
     "data": {
      "image/png": "[encoded data removed]",
      "text/plain": [
       "<Figure size 600x500 with 1 Axes>"
      ]
     },
     "metadata": {},
     "output_type": "display_data"
    }
   ],
   "source": [
    "plot_sorted_by_accuracy(grades, \"manufacturer\", sort_by=\"performance\", figsize=(6, 5))"
   ]
  },
  {
   "cell_type": "code",
   "execution_count": 10,
   "id": "e90fa718",
   "metadata": {},
   "outputs": [],
   "source": [
    "# await plot_grouped_by(\"type\", custom_reduce_fn=lambda x: \",\".join(x.split(\", \")[:2]))"
   ]
  },
  {
   "cell_type": "code",
   "execution_count": 17,
   "id": "afcf7d83",
   "metadata": {},
   "outputs": [
    {
     "name": "stdout",
     "output_type": "stream",
     "text": [
      "Running 4-6 with 59 components\n",
      "Running step: FullPageExtractorfull_pages\n"
     ]
    },
    {
     "name": "stderr",
     "output_type": "stream",
     "text": [
      "Processing: 100%|██████████| 59/59 [00:01<00:00, 31.11step/s]\n"
     ]
    },
    {
     "name": "stdout",
     "output_type": "stream",
     "text": [
      "Running step: TextRagquery_v1_4_similarity\n"
     ]
    },
    {
     "name": "stderr",
     "output_type": "stream",
     "text": [
      "Processing: 100%|██████████| 59/59 [00:02<00:00, 25.42step/s]\n"
     ]
    },
    {
     "name": "stdout",
     "output_type": "stream",
     "text": [
      "Running step: LLMPinExtractorQwen/Qwen2.5-VL-7B-Instruct_question_v2_instructions_v2\n"
     ]
    },
    {
     "name": "stderr",
     "output_type": "stream",
     "text": [
      "Processing: 100%|██████████| 59/59 [00:02<00:00, 24.32step/s]\n"
     ]
    },
    {
     "name": "stdout",
     "output_type": "stream",
     "text": [
      "Running step: LLMGradergpt-4o-mini_0.1_0.2_grading_instructions_v1\n"
     ]
    },
    {
     "name": "stderr",
     "output_type": "stream",
     "text": [
      "Processing: 100%|██████████| 59/59 [00:02<00:00, 22.55step/s]\n"
     ]
    },
    {
     "name": "stdout",
     "output_type": "stream",
     "text": [
      "Single_input: <class 'list'>\n",
      "Single_input_0 <class 'tuple'>\n",
      "Single_input_0_0 <class 'src.DB.CacheCollection.CacheCollection'>\n",
      "Single_input_0_1 <class 'src.DB.Component.Component'>\n",
      "Running 8-10 with 80 components\n",
      "Running step: FullPageExtractorfull_pages\n"
     ]
    },
    {
     "name": "stderr",
     "output_type": "stream",
     "text": [
      "Processing: 100%|██████████| 80/80 [00:03<00:00, 22.81step/s]\n"
     ]
    },
    {
     "name": "stdout",
     "output_type": "stream",
     "text": [
      "Running step: TextRagquery_v1_4_similarity\n"
     ]
    },
    {
     "name": "stderr",
     "output_type": "stream",
     "text": [
      "Processing: 100%|██████████| 80/80 [00:03<00:00, 24.45step/s]\n"
     ]
    },
    {
     "name": "stdout",
     "output_type": "stream",
     "text": [
      "Running step: LLMPinExtractorQwen/Qwen2.5-VL-7B-Instruct_question_v2_instructions_v2\n"
     ]
    },
    {
     "name": "stderr",
     "output_type": "stream",
     "text": [
      "Processing: 100%|██████████| 80/80 [00:03<00:00, 24.40step/s]\n"
     ]
    },
    {
     "name": "stdout",
     "output_type": "stream",
     "text": [
      "Running step: LLMGradergpt-4o-mini_0.1_0.2_grading_instructions_v1\n"
     ]
    },
    {
     "name": "stderr",
     "output_type": "stream",
     "text": [
      "Processing: 100%|██████████| 80/80 [00:03<00:00, 23.24step/s]\n"
     ]
    },
    {
     "name": "stdout",
     "output_type": "stream",
     "text": [
      "Single_input: <class 'list'>\n",
      "Single_input_0 <class 'tuple'>\n",
      "Single_input_0_0 <class 'src.DB.CacheCollection.CacheCollection'>\n",
      "Single_input_0_1 <class 'src.DB.Component.Component'>\n",
      "Running 12-14 with 73 components\n",
      "Running step: FullPageExtractorfull_pages\n"
     ]
    },
    {
     "name": "stderr",
     "output_type": "stream",
     "text": [
      "Processing: 100%|██████████| 73/73 [00:03<00:00, 22.62step/s]\n"
     ]
    },
    {
     "name": "stdout",
     "output_type": "stream",
     "text": [
      "Running step: TextRagquery_v1_4_similarity\n"
     ]
    },
    {
     "name": "stderr",
     "output_type": "stream",
     "text": [
      "Processing: 100%|██████████| 73/73 [00:02<00:00, 25.20step/s]\n"
     ]
    },
    {
     "name": "stdout",
     "output_type": "stream",
     "text": [
      "Running step: LLMPinExtractorQwen/Qwen2.5-VL-7B-Instruct_question_v2_instructions_v2\n"
     ]
    },
    {
     "name": "stderr",
     "output_type": "stream",
     "text": [
      "Processing: 100%|██████████| 73/73 [00:03<00:00, 23.99step/s]\n"
     ]
    },
    {
     "name": "stdout",
     "output_type": "stream",
     "text": [
      "Running step: LLMGradergpt-4o-mini_0.1_0.2_grading_instructions_v1\n"
     ]
    },
    {
     "name": "stderr",
     "output_type": "stream",
     "text": [
      "Processing: 100%|██████████| 73/73 [00:03<00:00, 22.39step/s]\n"
     ]
    },
    {
     "name": "stdout",
     "output_type": "stream",
     "text": [
      "Single_input: <class 'list'>\n",
      "Single_input_0 <class 'tuple'>\n",
      "Single_input_0_0 <class 'src.DB.CacheCollection.CacheCollection'>\n",
      "Single_input_0_1 <class 'src.DB.Component.Component'>\n",
      "Running 6-8 with 34 components\n",
      "Running step: FullPageExtractorfull_pages\n"
     ]
    },
    {
     "name": "stderr",
     "output_type": "stream",
     "text": [
      "Processing: 100%|██████████| 34/34 [00:01<00:00, 23.56step/s]\n"
     ]
    },
    {
     "name": "stdout",
     "output_type": "stream",
     "text": [
      "Running step: TextRagquery_v1_4_similarity\n"
     ]
    },
    {
     "name": "stderr",
     "output_type": "stream",
     "text": [
      "Processing: 100%|██████████| 34/34 [00:01<00:00, 24.88step/s]\n"
     ]
    },
    {
     "name": "stdout",
     "output_type": "stream",
     "text": [
      "Running step: LLMPinExtractorQwen/Qwen2.5-VL-7B-Instruct_question_v2_instructions_v2\n"
     ]
    },
    {
     "name": "stderr",
     "output_type": "stream",
     "text": [
      "Processing: 100%|██████████| 34/34 [00:01<00:00, 26.02step/s]\n"
     ]
    },
    {
     "name": "stdout",
     "output_type": "stream",
     "text": [
      "Running step: LLMGradergpt-4o-mini_0.1_0.2_grading_instructions_v1\n"
     ]
    },
    {
     "name": "stderr",
     "output_type": "stream",
     "text": [
      "Processing: 100%|██████████| 34/34 [00:01<00:00, 24.00step/s]\n"
     ]
    },
    {
     "name": "stdout",
     "output_type": "stream",
     "text": [
      "Single_input: <class 'list'>\n",
      "Single_input_0 <class 'tuple'>\n",
      "Single_input_0_0 <class 'src.DB.CacheCollection.CacheCollection'>\n",
      "Single_input_0_1 <class 'src.DB.Component.Component'>\n",
      "Running 14+ with 95 components\n",
      "Running step: FullPageExtractorfull_pages\n"
     ]
    },
    {
     "name": "stderr",
     "output_type": "stream",
     "text": [
      "Processing: 100%|██████████| 95/95 [00:04<00:00, 22.04step/s]\n"
     ]
    },
    {
     "name": "stdout",
     "output_type": "stream",
     "text": [
      "Running step: TextRagquery_v1_4_similarity\n"
     ]
    },
    {
     "name": "stderr",
     "output_type": "stream",
     "text": [
      "Processing: 100%|██████████| 95/95 [00:03<00:00, 25.09step/s]\n"
     ]
    },
    {
     "name": "stdout",
     "output_type": "stream",
     "text": [
      "Running step: LLMPinExtractorQwen/Qwen2.5-VL-7B-Instruct_question_v2_instructions_v2\n"
     ]
    },
    {
     "name": "stderr",
     "output_type": "stream",
     "text": [
      "Processing: 100%|██████████| 95/95 [00:03<00:00, 24.99step/s]\n"
     ]
    },
    {
     "name": "stdout",
     "output_type": "stream",
     "text": [
      "Running step: LLMGradergpt-4o-mini_0.1_0.2_grading_instructions_v1\n"
     ]
    },
    {
     "name": "stderr",
     "output_type": "stream",
     "text": [
      "Processing: 100%|██████████| 95/95 [00:04<00:00, 23.39step/s]\n"
     ]
    },
    {
     "name": "stdout",
     "output_type": "stream",
     "text": [
      "Single_input: <class 'list'>\n",
      "Single_input_0 <class 'tuple'>\n",
      "Single_input_0_0 <class 'src.DB.CacheCollection.CacheCollection'>\n",
      "Single_input_0_1 <class 'src.DB.Component.Component'>\n",
      "Running 14-16 with 52 components\n",
      "Running step: FullPageExtractorfull_pages\n"
     ]
    },
    {
     "name": "stderr",
     "output_type": "stream",
     "text": [
      "Processing: 100%|██████████| 52/52 [00:02<00:00, 17.96step/s]\n"
     ]
    },
    {
     "name": "stdout",
     "output_type": "stream",
     "text": [
      "Running step: TextRagquery_v1_4_similarity\n"
     ]
    },
    {
     "name": "stderr",
     "output_type": "stream",
     "text": [
      "Processing: 100%|██████████| 52/52 [00:02<00:00, 25.05step/s]\n"
     ]
    },
    {
     "name": "stdout",
     "output_type": "stream",
     "text": [
      "Running step: LLMPinExtractorQwen/Qwen2.5-VL-7B-Instruct_question_v2_instructions_v2\n"
     ]
    },
    {
     "name": "stderr",
     "output_type": "stream",
     "text": [
      "Processing: 100%|██████████| 52/52 [00:02<00:00, 24.69step/s]\n"
     ]
    },
    {
     "name": "stdout",
     "output_type": "stream",
     "text": [
      "Running step: LLMGradergpt-4o-mini_0.1_0.2_grading_instructions_v1\n"
     ]
    },
    {
     "name": "stderr",
     "output_type": "stream",
     "text": [
      "Processing: 100%|██████████| 52/52 [00:02<00:00, 22.88step/s]\n"
     ]
    },
    {
     "name": "stdout",
     "output_type": "stream",
     "text": [
      "Single_input: <class 'list'>\n",
      "Single_input_0 <class 'tuple'>\n",
      "Single_input_0_0 <class 'src.DB.CacheCollection.CacheCollection'>\n",
      "Single_input_0_1 <class 'src.DB.Component.Component'>\n",
      "Running 10-12 with 21 components\n",
      "Running step: FullPageExtractorfull_pages\n"
     ]
    },
    {
     "name": "stderr",
     "output_type": "stream",
     "text": [
      "Processing: 100%|██████████| 21/21 [00:00<00:00, 21.57step/s]\n"
     ]
    },
    {
     "name": "stdout",
     "output_type": "stream",
     "text": [
      "Running step: TextRagquery_v1_4_similarity\n"
     ]
    },
    {
     "name": "stderr",
     "output_type": "stream",
     "text": [
      "Processing: 100%|██████████| 21/21 [00:00<00:00, 23.67step/s]\n"
     ]
    },
    {
     "name": "stdout",
     "output_type": "stream",
     "text": [
      "Running step: LLMPinExtractorQwen/Qwen2.5-VL-7B-Instruct_question_v2_instructions_v2\n"
     ]
    },
    {
     "name": "stderr",
     "output_type": "stream",
     "text": [
      "Processing: 100%|██████████| 21/21 [00:00<00:00, 24.80step/s]\n"
     ]
    },
    {
     "name": "stdout",
     "output_type": "stream",
     "text": [
      "Running step: LLMGradergpt-4o-mini_0.1_0.2_grading_instructions_v1\n"
     ]
    },
    {
     "name": "stderr",
     "output_type": "stream",
     "text": [
      "Processing: 100%|██████████| 21/21 [00:00<00:00, 23.36step/s]\n"
     ]
    },
    {
     "name": "stdout",
     "output_type": "stream",
     "text": [
      "Single_input: <class 'list'>\n",
      "Single_input_0 <class 'tuple'>\n",
      "Single_input_0_0 <class 'src.DB.CacheCollection.CacheCollection'>\n",
      "Single_input_0_1 <class 'src.DB.Component.Component'>\n",
      "Running 2-4 with 93 components\n",
      "Running step: FullPageExtractorfull_pages\n"
     ]
    },
    {
     "name": "stderr",
     "output_type": "stream",
     "text": [
      "Processing: 100%|██████████| 93/93 [00:03<00:00, 25.72step/s]\n"
     ]
    },
    {
     "name": "stdout",
     "output_type": "stream",
     "text": [
      "Running step: TextRagquery_v1_4_similarity\n"
     ]
    },
    {
     "name": "stderr",
     "output_type": "stream",
     "text": [
      "Processing: 100%|██████████| 93/93 [00:03<00:00, 24.88step/s]\n"
     ]
    },
    {
     "name": "stdout",
     "output_type": "stream",
     "text": [
      "Running step: LLMPinExtractorQwen/Qwen2.5-VL-7B-Instruct_question_v2_instructions_v2\n"
     ]
    },
    {
     "name": "stderr",
     "output_type": "stream",
     "text": [
      "Processing: 100%|██████████| 93/93 [00:03<00:00, 25.20step/s]\n"
     ]
    },
    {
     "name": "stdout",
     "output_type": "stream",
     "text": [
      "Running step: LLMGradergpt-4o-mini_0.1_0.2_grading_instructions_v1\n"
     ]
    },
    {
     "name": "stderr",
     "output_type": "stream",
     "text": [
      "Processing: 100%|██████████| 93/93 [00:03<00:00, 24.63step/s]"
     ]
    },
    {
     "name": "stdout",
     "output_type": "stream",
     "text": [
      "Single_input: <class 'list'>\n",
      "Single_input_0 <class 'tuple'>\n",
      "Single_input_0_0 <class 'src.DB.CacheCollection.CacheCollection'>\n",
      "Single_input_0_1 <class 'src.DB.Component.Component'>\n"
     ]
    },
    {
     "name": "stderr",
     "output_type": "stream",
     "text": [
      "\n"
     ]
    }
   ],
   "source": [
    "def range_reduce_fun(x):\n",
    "    len_x = len(x)\n",
    "    bins = [(2, 4), (4, 6), (6, 8), (8, 10), (10, 12), (12, 14), (14, 16)]\n",
    "    ranges = [f\"{start}-{end}\" for start, end in bins]\n",
    "    # find the range for len_x\n",
    "    for i, (start, end) in enumerate(bins):\n",
    "        if start <= len_x < end:\n",
    "            return ranges[i]\n",
    "    return f\"{bins[-1][0]}+\"\n",
    "\n",
    "\n",
    "pin_grades = await plot_grouped_by(\"pins\", custom_reduce_fn=range_reduce_fun)\n"
   ]
  },
  {
   "cell_type": "code",
   "execution_count": 20,
   "id": "ac412bcd",
   "metadata": {},
   "outputs": [
    {
     "data": {
      "image/png": "[encoded data removed]",
      "text/plain": [
       "<Figure size 500x500 with 1 Axes>"
      ]
     },
     "metadata": {},
     "output_type": "display_data"
    }
   ],
   "source": [
    "plot_sorted_by_accuracy(pin_grades, \"pins\", sort_by=\"performance\", figsize=(5, 5))"
   ]
  },
  {
   "cell_type": "code",
   "execution_count": null,
   "id": "bd4bf0df",
   "metadata": {},
   "outputs": [],
   "source": []
  }
 ],
 "metadata": {
  "kernelspec": {
   "display_name": "pcbgpt",
   "language": "python",
   "name": "python3"
  },
  "language_info": {
   "codemirror_mode": {
    "name": "ipython",
    "version": 3
   },
   "file_extension": ".py",
   "mimetype": "text/x-python",
   "name": "python",
   "nbconvert_exporter": "python",
   "pygments_lexer": "ipython3",
   "version": "3.10.0"
  }
 },
 "nbformat": 4,
 "nbformat_minor": 5
}
